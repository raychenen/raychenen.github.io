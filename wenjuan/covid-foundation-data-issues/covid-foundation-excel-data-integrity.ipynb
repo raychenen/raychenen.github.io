{
 "cells": [
  {
   "cell_type": "code",
   "execution_count": 15,
   "metadata": {},
   "outputs": [
    {
     "name": "stdout",
     "output_type": "stream",
     "text": [
      "Column: 机构类型\n",
      "Missing value count: 0\n",
      "Number of organizations with '0' in this column: 0\n",
      "Unique value count: 5\n",
      "Unique values: ['基金会' '红十字会' '慈善会' '社会团体' '社会服务机构']\n",
      "\n",
      "Column: 员工人数\n",
      "Missing value count: 51\n",
      "Number of organizations with '0' in this column: 12\n",
      "Unique value count: 57\n",
      "Unique values: [ 97.  58.   5.   3.   7.   2.   4.  11.  10.   8.   6.  nan   0.  26.\n",
      "  41.   9.  23.  16.  18.  25.   1.  20.  15. 100.  50.  13.  21.  12.\n",
      "  39.  14.  19.  42.  22.  27.  17. 325.  30. 111.  31.  35.  45.  28.\n",
      "  61.  87.  36. 181.  49.  40.  84. 120.  83.  60.  78.  70.  93. 208.\n",
      "  43.  29.]\n",
      "\n",
      "Column: 企业/家族基金会所属企业或个人\n",
      "Missing value count: 550\n",
      "Number of organizations with '0' in this column: 0\n",
      "Unique value count: 18\n",
      "Unique values: [nan '百度（中国）有限公司' '德天下国际健康管理（北京）有限公司' '正荣集团有限公司' '广东丹姿集团有限公司' '碧桂园控股有限公司'\n",
      " '三七互娱网络科技集团股份有限公司' '山东京博控股集团有限公司' '上海国乾投资管理有限公司' '上海全人生物科技有限公司'\n",
      " '上海相宜本草化妆品股份有限公司' '上海云开教育培训有限公司' 'TCL科技集团股份有限公司' '深圳市天图创业投资有限公司' '陈一丹'\n",
      " '花样年集团（中国）有限公司' '陈灵梅' '深圳市松禾创业投资有限公司' '杭州锦江集团有限公司']\n",
      "\n",
      "Column: 公募资格\n",
      "Missing value count: 0\n",
      "Number of organizations with '0' in this column: 0\n",
      "Unique value count: 2\n",
      "Unique values: ['是' '否']\n",
      "\n",
      "Column: 评估等级\n",
      "Missing value count: 226\n",
      "Number of organizations with '0' in this column: 0\n",
      "Unique value count: 8\n",
      "Unique values: ['5A' '4A' nan '3A' '2A' '未参加' '1A' '无' '未知']\n",
      "\n"
     ]
    }
   ],
   "source": [
    "import pandas as pd\n",
    "\n",
    "excel_path = \"/Users/raychan/Downloads/GitHub/COVID-Paper/Data/香港科技大学数据2022-12-12.xlsx\"\n",
    "df = pd.read_excel(excel_path)\n",
    "basic_info_interested_columns = [\"机构类型\", \"员工人数\", \"企业/家族基金会所属企业或个人\", \"公募资格\", \"评估等级\", ]\n",
    "# for each col, get missing value count and unique value count and unique values\n",
    "for col in basic_info_interested_columns:\n",
    "    print(f\"Column: {col}\")\n",
    "    print(f\"Missing value count: {df[col].isna().sum()}\")\n",
    "    print(f\"Number of organizations with '0' in this column: {(df[col] == 0).sum()}\")\n",
    "    print(f\"Unique value count: {df[col].nunique()}\")\n",
    "    print(f\"Unique values: {df[col].unique()}\")\n",
    "    print()"
   ]
  },
  {
   "cell_type": "code",
   "execution_count": 16,
   "metadata": {},
   "outputs": [
    {
     "name": "stdout",
     "output_type": "stream",
     "text": [
      "Column: 总资产合计\n",
      "Missing value count: 1\n",
      "Number of organizations with '0' in this column: 0\n",
      "Unique value count: 485\n",
      "Unique values: ['nan']\n",
      "Column: 净资产合计\n",
      "Missing value count: 10\n",
      "Number of organizations with '0' in this column: 3\n",
      "Unique value count: 474\n",
      "Unique values: ['0.0', 'nan']\n",
      "Column: 收入合计\n",
      "Missing value count: 2\n",
      "Number of organizations with '0' in this column: 1\n",
      "Unique value count: 484\n",
      "Unique values: ['nan', '0.0']\n",
      "Column: 捐赠收入\n",
      "Missing value count: 2\n",
      "Number of organizations with '0' in this column: 12\n",
      "Unique value count: 473\n",
      "Unique values: ['nan', '0.0']\n",
      "Column: 政府补助收入\n",
      "Missing value count: 40\n",
      "Number of organizations with '0' in this column: 312\n",
      "Unique value count: 120\n",
      "Unique values: ['0.0', 'nan']\n"
     ]
    }
   ],
   "source": [
    "# load \"财务信息\" sheet\n",
    "fin_df = pd.read_excel(excel_path, sheet_name=\"财务信息\")\n",
    "# consider \"财务年度\" = 2020\n",
    "fin_df = fin_df[fin_df[\"财务年度\"] == 2020]\n",
    "financial_info_interested_cols = [\"总资产合计\", \"净资产合计\", \"收入合计\", \"捐赠收入\", \"政府补助收入\"]\n",
    "# for each col, get missing value count and unique value count and unique values (excluding float and int)\n",
    "for col in financial_info_interested_cols:\n",
    "    print(f\"Column: {col}\")\n",
    "    print(f\"Missing value count: {fin_df[col].isna().sum()}\")\n",
    "    print(f\"Number of organizations with '0' in this column: {(fin_df[col] == 0).sum()}\")\n",
    "    print(f\"Unique value count: {fin_df[col].nunique()}\")\n",
    "    # unique values (fill nan with \"nan\" and ignore those longer than 3)\n",
    "    unique_values = [str(x) for x in fin_df[col].unique() if len(str(x)) <= 3]\n",
    "    print(f\"Unique values: {unique_values}\")"
   ]
  },
  {
   "cell_type": "code",
   "execution_count": null,
   "metadata": {},
   "outputs": [],
   "source": []
  }
 ],
 "metadata": {
  "kernelspec": {
   "display_name": "base",
   "language": "python",
   "name": "python3"
  },
  "language_info": {
   "codemirror_mode": {
    "name": "ipython",
    "version": 3
   },
   "file_extension": ".py",
   "mimetype": "text/x-python",
   "name": "python",
   "nbconvert_exporter": "python",
   "pygments_lexer": "ipython3",
   "version": "3.9.12"
  },
  "orig_nbformat": 4,
  "vscode": {
   "interpreter": {
    "hash": "bdd77d93df0951fd3c4d6c4ee27271407947fec4853e8afc544f0f08068730bc"
   }
  }
 },
 "nbformat": 4,
 "nbformat_minor": 2
}
